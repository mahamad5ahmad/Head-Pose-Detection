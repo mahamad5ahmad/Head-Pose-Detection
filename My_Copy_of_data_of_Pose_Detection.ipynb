{
 "cells": [
  {
   "cell_type": "markdown",
   "metadata": {
    "id": "TyHbiGsMEby4"
   },
   "source": [
    "## All data to csv file"
   ]
  },
  {
   "cell_type": "code",
   "execution_count": 58,
   "metadata": {
    "id": "0SfnCBu2Emcr"
   },
   "outputs": [],
   "source": [
    "import numpy as np\n",
    "import os\n",
    "import scipy.io as sio\n",
    "import cv2\n",
    "import math\n",
    "from math import cos, sin\n",
    "import dlib\n",
    "import glob\n",
    "from pathlib import Path\n",
    "import pandas as pd\n",
    "from PIL import Image, ImageFilter\n",
    "import imutils\n",
    "from sklearn.model_selection import cross_val_score,train_test_split\n",
    "import numpy as np\n",
    "import matplotlib.pyplot as plt\n",
    "from sklearn.decomposition import PCA\n",
    "import plotly.express as px\n",
    "from sklearn.preprocessing import RobustScaler\n"
   ]
  },
  {
   "cell_type": "code",
   "execution_count": 59,
   "metadata": {
    "id": "0yOaa3WIdar4"
   },
   "outputs": [
    {
     "data": {
      "text/html": [
       "<div>\n",
       "<style scoped>\n",
       "    .dataframe tbody tr th:only-of-type {\n",
       "        vertical-align: middle;\n",
       "    }\n",
       "\n",
       "    .dataframe tbody tr th {\n",
       "        vertical-align: top;\n",
       "    }\n",
       "\n",
       "    .dataframe thead th {\n",
       "        text-align: right;\n",
       "    }\n",
       "</style>\n",
       "<table border=\"1\" class=\"dataframe\">\n",
       "  <thead>\n",
       "    <tr style=\"text-align: right;\">\n",
       "      <th></th>\n",
       "      <th>col0</th>\n",
       "      <th>col1</th>\n",
       "      <th>col2</th>\n",
       "      <th>col3</th>\n",
       "      <th>col4</th>\n",
       "      <th>col5</th>\n",
       "      <th>col6</th>\n",
       "      <th>col7</th>\n",
       "      <th>col8</th>\n",
       "      <th>col9</th>\n",
       "      <th>...</th>\n",
       "      <th>col129</th>\n",
       "      <th>col130</th>\n",
       "      <th>col131</th>\n",
       "      <th>col132</th>\n",
       "      <th>col133</th>\n",
       "      <th>col134</th>\n",
       "      <th>col135</th>\n",
       "      <th>yaw</th>\n",
       "      <th>pitch</th>\n",
       "      <th>roll</th>\n",
       "    </tr>\n",
       "  </thead>\n",
       "  <tbody>\n",
       "    <tr>\n",
       "      <th>0</th>\n",
       "      <td>121.868034</td>\n",
       "      <td>122.36761</td>\n",
       "      <td>126.81924</td>\n",
       "      <td>130.83179</td>\n",
       "      <td>137.52313</td>\n",
       "      <td>148.52173</td>\n",
       "      <td>161.52802</td>\n",
       "      <td>182.87668</td>\n",
       "      <td>213.94006</td>\n",
       "      <td>248.00537</td>\n",
       "      <td>...</td>\n",
       "      <td>310.14905</td>\n",
       "      <td>313.23386</td>\n",
       "      <td>315.10712</td>\n",
       "      <td>322.38460</td>\n",
       "      <td>330.96558</td>\n",
       "      <td>330.70197</td>\n",
       "      <td>324.90387</td>\n",
       "      <td>1.044306</td>\n",
       "      <td>-22.874239</td>\n",
       "      <td>4.908886</td>\n",
       "    </tr>\n",
       "    <tr>\n",
       "      <th>1</th>\n",
       "      <td>281.238160</td>\n",
       "      <td>277.33942</td>\n",
       "      <td>274.87695</td>\n",
       "      <td>269.52377</td>\n",
       "      <td>257.78827</td>\n",
       "      <td>240.96815</td>\n",
       "      <td>221.80148</td>\n",
       "      <td>205.84630</td>\n",
       "      <td>207.08545</td>\n",
       "      <td>226.18564</td>\n",
       "      <td>...</td>\n",
       "      <td>303.09380</td>\n",
       "      <td>300.72446</td>\n",
       "      <td>300.06097</td>\n",
       "      <td>303.26090</td>\n",
       "      <td>299.48517</td>\n",
       "      <td>300.59860</td>\n",
       "      <td>302.28650</td>\n",
       "      <td>68.155240</td>\n",
       "      <td>26.932743</td>\n",
       "      <td>17.243670</td>\n",
       "    </tr>\n",
       "    <tr>\n",
       "      <th>2</th>\n",
       "      <td>236.385100</td>\n",
       "      <td>239.19826</td>\n",
       "      <td>242.56638</td>\n",
       "      <td>243.97137</td>\n",
       "      <td>242.82819</td>\n",
       "      <td>238.56790</td>\n",
       "      <td>232.56186</td>\n",
       "      <td>229.15529</td>\n",
       "      <td>238.30316</td>\n",
       "      <td>259.12247</td>\n",
       "      <td>...</td>\n",
       "      <td>303.12200</td>\n",
       "      <td>302.87730</td>\n",
       "      <td>302.14645</td>\n",
       "      <td>300.48938</td>\n",
       "      <td>303.48187</td>\n",
       "      <td>304.68173</td>\n",
       "      <td>304.63104</td>\n",
       "      <td>50.485413</td>\n",
       "      <td>-10.579652</td>\n",
       "      <td>-13.570645</td>\n",
       "    </tr>\n",
       "    <tr>\n",
       "      <th>3</th>\n",
       "      <td>168.029220</td>\n",
       "      <td>177.69751</td>\n",
       "      <td>190.64160</td>\n",
       "      <td>201.39530</td>\n",
       "      <td>211.95721</td>\n",
       "      <td>222.72310</td>\n",
       "      <td>231.35022</td>\n",
       "      <td>244.33286</td>\n",
       "      <td>268.32764</td>\n",
       "      <td>291.83220</td>\n",
       "      <td>...</td>\n",
       "      <td>315.46940</td>\n",
       "      <td>312.70130</td>\n",
       "      <td>310.13330</td>\n",
       "      <td>300.04130</td>\n",
       "      <td>315.54480</td>\n",
       "      <td>319.49860</td>\n",
       "      <td>320.84400</td>\n",
       "      <td>17.143373</td>\n",
       "      <td>-10.048455</td>\n",
       "      <td>-21.392782</td>\n",
       "    </tr>\n",
       "    <tr>\n",
       "      <th>4</th>\n",
       "      <td>280.462250</td>\n",
       "      <td>287.24982</td>\n",
       "      <td>293.89246</td>\n",
       "      <td>297.53937</td>\n",
       "      <td>295.67700</td>\n",
       "      <td>287.27036</td>\n",
       "      <td>271.66160</td>\n",
       "      <td>254.70116</td>\n",
       "      <td>250.21930</td>\n",
       "      <td>261.21246</td>\n",
       "      <td>...</td>\n",
       "      <td>306.81177</td>\n",
       "      <td>307.01490</td>\n",
       "      <td>305.35132</td>\n",
       "      <td>309.93480</td>\n",
       "      <td>311.55890</td>\n",
       "      <td>312.92075</td>\n",
       "      <td>312.05835</td>\n",
       "      <td>68.640550</td>\n",
       "      <td>-50.544582</td>\n",
       "      <td>-59.207973</td>\n",
       "    </tr>\n",
       "    <tr>\n",
       "      <th>...</th>\n",
       "      <td>...</td>\n",
       "      <td>...</td>\n",
       "      <td>...</td>\n",
       "      <td>...</td>\n",
       "      <td>...</td>\n",
       "      <td>...</td>\n",
       "      <td>...</td>\n",
       "      <td>...</td>\n",
       "      <td>...</td>\n",
       "      <td>...</td>\n",
       "      <td>...</td>\n",
       "      <td>...</td>\n",
       "      <td>...</td>\n",
       "      <td>...</td>\n",
       "      <td>...</td>\n",
       "      <td>...</td>\n",
       "      <td>...</td>\n",
       "      <td>...</td>\n",
       "      <td>...</td>\n",
       "      <td>...</td>\n",
       "      <td>...</td>\n",
       "    </tr>\n",
       "    <tr>\n",
       "      <th>1995</th>\n",
       "      <td>112.578930</td>\n",
       "      <td>113.78786</td>\n",
       "      <td>119.25926</td>\n",
       "      <td>125.33600</td>\n",
       "      <td>133.63794</td>\n",
       "      <td>146.15384</td>\n",
       "      <td>162.20517</td>\n",
       "      <td>183.90726</td>\n",
       "      <td>213.98743</td>\n",
       "      <td>243.80988</td>\n",
       "      <td>...</td>\n",
       "      <td>317.06897</td>\n",
       "      <td>317.71814</td>\n",
       "      <td>319.27792</td>\n",
       "      <td>321.06314</td>\n",
       "      <td>324.63550</td>\n",
       "      <td>324.51850</td>\n",
       "      <td>322.08582</td>\n",
       "      <td>-4.035367</td>\n",
       "      <td>-11.293093</td>\n",
       "      <td>6.022806</td>\n",
       "    </tr>\n",
       "    <tr>\n",
       "      <th>1996</th>\n",
       "      <td>111.117966</td>\n",
       "      <td>113.64708</td>\n",
       "      <td>115.32871</td>\n",
       "      <td>120.56592</td>\n",
       "      <td>134.10947</td>\n",
       "      <td>158.44843</td>\n",
       "      <td>187.56831</td>\n",
       "      <td>212.20233</td>\n",
       "      <td>223.97765</td>\n",
       "      <td>218.68338</td>\n",
       "      <td>...</td>\n",
       "      <td>316.93500</td>\n",
       "      <td>316.01343</td>\n",
       "      <td>315.39240</td>\n",
       "      <td>316.94960</td>\n",
       "      <td>316.98140</td>\n",
       "      <td>317.92230</td>\n",
       "      <td>318.16846</td>\n",
       "      <td>-81.288440</td>\n",
       "      <td>-13.327947</td>\n",
       "      <td>10.081747</td>\n",
       "    </tr>\n",
       "    <tr>\n",
       "      <th>1997</th>\n",
       "      <td>308.227420</td>\n",
       "      <td>309.90533</td>\n",
       "      <td>311.43225</td>\n",
       "      <td>310.48860</td>\n",
       "      <td>303.66240</td>\n",
       "      <td>288.27524</td>\n",
       "      <td>268.57540</td>\n",
       "      <td>248.85526</td>\n",
       "      <td>239.93924</td>\n",
       "      <td>248.18698</td>\n",
       "      <td>...</td>\n",
       "      <td>311.08470</td>\n",
       "      <td>311.58060</td>\n",
       "      <td>311.96045</td>\n",
       "      <td>316.87344</td>\n",
       "      <td>314.67700</td>\n",
       "      <td>315.05124</td>\n",
       "      <td>313.33337</td>\n",
       "      <td>82.005560</td>\n",
       "      <td>-82.961685</td>\n",
       "      <td>-86.483290</td>\n",
       "    </tr>\n",
       "    <tr>\n",
       "      <th>1998</th>\n",
       "      <td>106.611570</td>\n",
       "      <td>106.08998</td>\n",
       "      <td>107.32884</td>\n",
       "      <td>109.02394</td>\n",
       "      <td>116.21605</td>\n",
       "      <td>136.33855</td>\n",
       "      <td>162.52371</td>\n",
       "      <td>190.19327</td>\n",
       "      <td>208.98305</td>\n",
       "      <td>210.19260</td>\n",
       "      <td>...</td>\n",
       "      <td>309.40228</td>\n",
       "      <td>310.20886</td>\n",
       "      <td>310.28750</td>\n",
       "      <td>312.93304</td>\n",
       "      <td>313.26575</td>\n",
       "      <td>313.58185</td>\n",
       "      <td>312.26965</td>\n",
       "      <td>-68.249340</td>\n",
       "      <td>-24.090857</td>\n",
       "      <td>25.869925</td>\n",
       "    </tr>\n",
       "    <tr>\n",
       "      <th>1999</th>\n",
       "      <td>119.028824</td>\n",
       "      <td>122.09436</td>\n",
       "      <td>128.49277</td>\n",
       "      <td>135.46417</td>\n",
       "      <td>145.88649</td>\n",
       "      <td>162.12448</td>\n",
       "      <td>178.54370</td>\n",
       "      <td>197.62068</td>\n",
       "      <td>226.31070</td>\n",
       "      <td>251.69690</td>\n",
       "      <td>...</td>\n",
       "      <td>311.28687</td>\n",
       "      <td>311.10345</td>\n",
       "      <td>310.48676</td>\n",
       "      <td>311.46332</td>\n",
       "      <td>313.17270</td>\n",
       "      <td>313.90228</td>\n",
       "      <td>313.62234</td>\n",
       "      <td>-10.320475</td>\n",
       "      <td>-0.891077</td>\n",
       "      <td>-1.406394</td>\n",
       "    </tr>\n",
       "  </tbody>\n",
       "</table>\n",
       "<p>2000 rows × 139 columns</p>\n",
       "</div>"
      ],
      "text/plain": [
       "            col0       col1       col2       col3       col4       col5  \\\n",
       "0     121.868034  122.36761  126.81924  130.83179  137.52313  148.52173   \n",
       "1     281.238160  277.33942  274.87695  269.52377  257.78827  240.96815   \n",
       "2     236.385100  239.19826  242.56638  243.97137  242.82819  238.56790   \n",
       "3     168.029220  177.69751  190.64160  201.39530  211.95721  222.72310   \n",
       "4     280.462250  287.24982  293.89246  297.53937  295.67700  287.27036   \n",
       "...          ...        ...        ...        ...        ...        ...   \n",
       "1995  112.578930  113.78786  119.25926  125.33600  133.63794  146.15384   \n",
       "1996  111.117966  113.64708  115.32871  120.56592  134.10947  158.44843   \n",
       "1997  308.227420  309.90533  311.43225  310.48860  303.66240  288.27524   \n",
       "1998  106.611570  106.08998  107.32884  109.02394  116.21605  136.33855   \n",
       "1999  119.028824  122.09436  128.49277  135.46417  145.88649  162.12448   \n",
       "\n",
       "           col6       col7       col8       col9  ...     col129     col130  \\\n",
       "0     161.52802  182.87668  213.94006  248.00537  ...  310.14905  313.23386   \n",
       "1     221.80148  205.84630  207.08545  226.18564  ...  303.09380  300.72446   \n",
       "2     232.56186  229.15529  238.30316  259.12247  ...  303.12200  302.87730   \n",
       "3     231.35022  244.33286  268.32764  291.83220  ...  315.46940  312.70130   \n",
       "4     271.66160  254.70116  250.21930  261.21246  ...  306.81177  307.01490   \n",
       "...         ...        ...        ...        ...  ...        ...        ...   \n",
       "1995  162.20517  183.90726  213.98743  243.80988  ...  317.06897  317.71814   \n",
       "1996  187.56831  212.20233  223.97765  218.68338  ...  316.93500  316.01343   \n",
       "1997  268.57540  248.85526  239.93924  248.18698  ...  311.08470  311.58060   \n",
       "1998  162.52371  190.19327  208.98305  210.19260  ...  309.40228  310.20886   \n",
       "1999  178.54370  197.62068  226.31070  251.69690  ...  311.28687  311.10345   \n",
       "\n",
       "         col131     col132     col133     col134     col135        yaw  \\\n",
       "0     315.10712  322.38460  330.96558  330.70197  324.90387   1.044306   \n",
       "1     300.06097  303.26090  299.48517  300.59860  302.28650  68.155240   \n",
       "2     302.14645  300.48938  303.48187  304.68173  304.63104  50.485413   \n",
       "3     310.13330  300.04130  315.54480  319.49860  320.84400  17.143373   \n",
       "4     305.35132  309.93480  311.55890  312.92075  312.05835  68.640550   \n",
       "...         ...        ...        ...        ...        ...        ...   \n",
       "1995  319.27792  321.06314  324.63550  324.51850  322.08582  -4.035367   \n",
       "1996  315.39240  316.94960  316.98140  317.92230  318.16846 -81.288440   \n",
       "1997  311.96045  316.87344  314.67700  315.05124  313.33337  82.005560   \n",
       "1998  310.28750  312.93304  313.26575  313.58185  312.26965 -68.249340   \n",
       "1999  310.48676  311.46332  313.17270  313.90228  313.62234 -10.320475   \n",
       "\n",
       "          pitch       roll  \n",
       "0    -22.874239   4.908886  \n",
       "1     26.932743  17.243670  \n",
       "2    -10.579652 -13.570645  \n",
       "3    -10.048455 -21.392782  \n",
       "4    -50.544582 -59.207973  \n",
       "...         ...        ...  \n",
       "1995 -11.293093   6.022806  \n",
       "1996 -13.327947  10.081747  \n",
       "1997 -82.961685 -86.483290  \n",
       "1998 -24.090857  25.869925  \n",
       "1999  -0.891077  -1.406394  \n",
       "\n",
       "[2000 rows x 139 columns]"
      ]
     },
     "execution_count": 59,
     "metadata": {},
     "output_type": "execute_result"
    }
   ],
   "source": [
    "\n",
    "df = pd.read_csv(\"testfile\")\n",
    "df"
   ]
  },
  {
   "cell_type": "markdown",
   "metadata": {
    "id": "dTtMVP2kiaD0"
   },
   "source": [
    "# thank you this is the first part we now have yhe pith yaw roll"
   ]
  },
  {
   "cell_type": "markdown",
   "metadata": {
    "id": "eifWvBy3IJoP"
   },
   "source": [
    "# Now We Will Start explore the data"
   ]
  },
  {
   "cell_type": "markdown",
   "metadata": {
    "id": "lo-x83rsKzzL"
   },
   "source": [
    "# Splitting the data "
   ]
  },
  {
   "cell_type": "code",
   "execution_count": 60,
   "metadata": {
    "id": "DeaDIpkX28_f"
   },
   "outputs": [],
   "source": [
    "def split_data( df,rs1,rs2):\n",
    "     df_train, df_val = train_test_split(df, test_size=0.2, random_state=rs1 )\n",
    "     df_val, df_test = train_test_split(df_val, test_size=0.5, random_state=rs2 )\n",
    "     return df_train, df_val, df_test"
   ]
  },
  {
   "cell_type": "markdown",
   "metadata": {
    "id": "Qy2_uvldA7Fc"
   },
   "source": [
    "# Models :"
   ]
  },
  {
   "cell_type": "markdown",
   "metadata": {
    "id": "Zbh9JftLzWq2"
   },
   "source": [
    "# for y one by one"
   ]
  },
  {
   "cell_type": "markdown",
   "metadata": {
    "id": "sJ_QYl_ABMZr"
   },
   "source": [
    "# yaw"
   ]
  },
  {
   "cell_type": "code",
   "execution_count": 61,
   "metadata": {
    "colab": {
     "base_uri": "https://localhost:8080/"
    },
    "id": "Ir-tQoW4BErI",
    "outputId": "7246437e-645b-4562-b502-3e2b079e2825"
   },
   "outputs": [
    {
     "name": "stdout",
     "output_type": "stream",
     "text": [
      "(1600, 136) (200, 136) (200, 136) (1600,) (200,) (200,)\n"
     ]
    }
   ],
   "source": [
    "df_train_yaw, df_val_yaw, df_test_yaw=split_data(df,4,4)\n",
    "\n",
    "X_train_yaw = df_train_yaw.drop(columns=['yaw', 'pitch','roll' ])\n",
    "y_train_yaw = df_train_yaw['yaw']\n",
    "X_val_yaw = df_val_yaw.drop(columns=['yaw', 'pitch','roll' ])\n",
    "y_val_yaw = df_val_yaw['yaw']\n",
    "X_test_yaw = df_test_yaw.drop(columns=['yaw', 'pitch','roll' ])\n",
    "y_test_yaw = df_test_yaw['yaw']\n",
    "print(X_train_yaw.shape,X_val_yaw.shape, X_test_yaw.shape,y_train_yaw.shape,y_val_yaw.shape,y_test_yaw.shape )"
   ]
  },
  {
   "cell_type": "code",
   "execution_count": 62,
   "metadata": {
    "colab": {
     "base_uri": "https://localhost:8080/"
    },
    "id": "kDUFVg4aBE2o",
    "outputId": "a7c52f88-953e-41f8-9fdc-db53de3731a7"
   },
   "outputs": [
    {
     "name": "stdout",
     "output_type": "stream",
     "text": [
      "(1600, 9) (200, 9) (200, 9) (1600,) (200,) (200,)\n"
     ]
    }
   ],
   "source": [
    "pca_yaw = PCA(0.99)\n",
    "X_train_pca_yaw = pca_yaw.fit_transform(X_train_yaw)\n",
    "X_val_pca_yaw = pca_yaw.transform(X_val_yaw)\n",
    "X_test_pca_yaw = pca_yaw.transform(X_test_yaw)\n",
    "\n",
    "print(X_train_pca_yaw.shape,X_val_pca_yaw.shape, X_test_pca_yaw.shape,y_train_yaw.shape,y_val_yaw.shape,y_test_yaw.shape )"
   ]
  },
  {
   "cell_type": "code",
   "execution_count": 63,
   "metadata": {
    "colab": {
     "base_uri": "https://localhost:8080/"
    },
    "id": "ls33cxqhzaih",
    "outputId": "11aa6efb-29ec-4a46-c78f-05799b486533"
   },
   "outputs": [
    {
     "name": "stdout",
     "output_type": "stream",
     "text": [
      "0.9825052883168216\n",
      "0.9949707209614677\n",
      "0.9920796707666738\n"
     ]
    }
   ],
   "source": [
    "from sklearn.ensemble import RandomForestRegressor\n",
    "regressor_yaw = RandomForestRegressor(random_state=7)\n",
    "regressor_yaw.fit(X_train_pca_yaw, y_train_yaw)\n",
    "print(regressor_yaw.score(X_train_pca_yaw, y_train_yaw))\n",
    "print(regressor_yaw.score(X_val_pca_yaw, y_val_yaw))\n",
    "print(regressor_yaw.score(X_test_pca_yaw, y_test_yaw))"
   ]
  },
  {
   "cell_type": "markdown",
   "metadata": {
    "id": "9uTG47UDBOLm"
   },
   "source": [
    "# pitch"
   ]
  },
  {
   "cell_type": "code",
   "execution_count": 64,
   "metadata": {
    "colab": {
     "base_uri": "https://localhost:8080/"
    },
    "id": "_ybgJb9vBMKX",
    "outputId": "5dbbfb79-f31b-45db-a733-6f2a58f0b64b"
   },
   "outputs": [
    {
     "name": "stdout",
     "output_type": "stream",
     "text": [
      "(1600, 136) (200, 136) (200, 136) (1600,) (200,) (200,)\n"
     ]
    }
   ],
   "source": [
    "df_train_pitch, df_val_pitch, df_test_pitch=split_data(df,1,0)\n",
    "\n",
    "X_train_pitch = df_train_pitch.drop(columns=['yaw', 'pitch','roll' ])\n",
    "y_train_pitch = df_train_pitch['pitch']\n",
    "X_val_pitch = df_val_pitch.drop(columns=['yaw', 'pitch','roll' ])\n",
    "y_val_pitch = df_val_pitch[ 'pitch']\n",
    "X_test_Pitch = df_test_pitch.drop(columns=['yaw', 'pitch','roll' ])\n",
    "y_test_pitch = df_test_pitch['pitch']\n",
    "\n",
    "\n",
    "\n",
    "print(X_train_pitch .shape , X_val_pitch.shape , X_test_Pitch.shape , y_train_pitch.shape , y_val_pitch.shape,y_test_pitch.shape )"
   ]
  },
  {
   "cell_type": "code",
   "execution_count": 65,
   "metadata": {
    "colab": {
     "base_uri": "https://localhost:8080/"
    },
    "id": "OBuEi1xWDFfk",
    "outputId": "69d457bf-d912-41ad-8d02-eeb83484aef7"
   },
   "outputs": [
    {
     "name": "stdout",
     "output_type": "stream",
     "text": [
      "(1600, 9) (200, 9) (200, 9) (1600,) (200,) (200,)\n"
     ]
    }
   ],
   "source": [
    "#from sklearn.preprocessing import StandardScaler\n",
    "#scaler = StandardScaler().fit(X_train_pitch)\n",
    "#X_train_pitch = pd.DataFrame(scaler.transform(X_train_pitch),columns = X_train_pitch.columns)\n",
    "#X_val_pitch = pd.DataFrame(scaler.transform(X_val_pitch),columns = X_train_pitch.columns)\n",
    "#X_test_pitch = pd.DataFrame(scaler.transform(X_test_Pitch),columns = X_train_pitch.columns)\n",
    "pca_pitch = PCA(0.99)\n",
    "X_train_pca_pitch = pca_pitch.fit_transform(X_train_pitch)\n",
    "X_val_pca_pitch = pca_pitch.transform(X_val_pitch)\n",
    "X_test_pca_pitch = pca_pitch.transform(X_test_Pitch)\n",
    "\n",
    "\n",
    "print(X_train_pca_pitch.shape,X_val_pca_pitch.shape, X_test_pca_pitch.shape,y_train_pitch.shape,y_val_pitch.shape,y_test_pitch.shape )"
   ]
  },
  {
   "cell_type": "code",
   "execution_count": 66,
   "metadata": {
    "colab": {
     "base_uri": "https://localhost:8080/"
    },
    "id": "TAa-HsB3F5GR",
    "outputId": "cf917a0d-1fc2-4fe7-87de-72c27f11049c"
   },
   "outputs": [
    {
     "name": "stdout",
     "output_type": "stream",
     "text": [
      "0.8565040178157651\n",
      "0.7748855662645143\n",
      "0.7892343227602817\n"
     ]
    }
   ],
   "source": [
    "from sklearn.ensemble import RandomForestRegressor\n",
    "\n",
    "regressor_pitch = RandomForestRegressor(random_state=5,bootstrap= True,\n",
    " max_depth= None,\n",
    " max_features= 'sqrt',\n",
    " min_samples_leaf= 4,\n",
    " min_samples_split= 5,\n",
    " n_estimators= 200)\n",
    "\n",
    "regressor_pitch = RandomForestRegressor(random_state=7,bootstrap= True,n_estimators=250)\n",
    "regressor_pitch.fit(X_train_pca_pitch, y_train_pitch)\n",
    "print(regressor_pitch.score(X_train_pca_pitch, y_train_pitch))\n",
    "print(regressor_pitch.score(X_val_pca_pitch, y_val_pitch))\n",
    "print(regressor_pitch.score(X_test_pca_pitch, y_test_pitch))"
   ]
  },
  {
   "cell_type": "markdown",
   "metadata": {
    "id": "Y6AfkjunPEyb"
   },
   "source": [
    "# roll"
   ]
  },
  {
   "cell_type": "code",
   "execution_count": 67,
   "metadata": {
    "colab": {
     "base_uri": "https://localhost:8080/"
    },
    "id": "QasBlJB7BO3C",
    "outputId": "b640b813-dda5-41fa-e26a-287845d90756"
   },
   "outputs": [
    {
     "name": "stdout",
     "output_type": "stream",
     "text": [
      "(1600, 136) (200, 136) (200, 136) (1600,) (200,) (200,)\n"
     ]
    }
   ],
   "source": [
    "df_train_roll, df_val_roll, df_test_roll=split_data(df,16,7)\n",
    "\n",
    "X_train_roll = df_train_roll.drop(columns=['yaw', 'pitch','roll' ])\n",
    "y_train_roll = df_train_roll['roll' ]\n",
    "X_val_roll = df_val_roll.drop(columns=['yaw', 'pitch','roll' ])\n",
    "y_val_roll = df_val_roll['roll']\n",
    "X_test_roll = df_test_roll.drop(columns=['yaw', 'pitch','roll' ])\n",
    "y_test_roll = df_test_roll['roll' ]\n",
    "print(X_train_roll.shape,X_val_roll.shape, X_test_roll.shape,y_train_roll.shape,y_val_roll.shape,y_test_roll.shape )"
   ]
  },
  {
   "cell_type": "code",
   "execution_count": 68,
   "metadata": {
    "colab": {
     "base_uri": "https://localhost:8080/"
    },
    "id": "j57a5pnNDIHv",
    "outputId": "96ded86a-01a7-4dd1-f91d-042a3d2c4ed8"
   },
   "outputs": [
    {
     "name": "stdout",
     "output_type": "stream",
     "text": [
      "(1600, 9) (200, 9) (200, 9) (1600,) (200,) (200,)\n"
     ]
    }
   ],
   "source": [
    "pca_roll = PCA(0.99)\n",
    "X_train_pca_roll = pca_roll.fit_transform(X_train_roll)\n",
    "X_val_pca_roll = pca_roll.transform(X_val_roll)\n",
    "X_test_pca_roll = pca_roll.transform(X_test_roll)\n",
    "print(X_train_pca_roll.shape,X_val_pca_roll.shape, X_test_pca_roll.shape,y_train_roll.shape,y_val_roll.shape,y_test_roll.shape )"
   ]
  },
  {
   "cell_type": "code",
   "execution_count": 69,
   "metadata": {
    "colab": {
     "base_uri": "https://localhost:8080/"
    },
    "id": "QTeQDP3O0bYI",
    "outputId": "e4c47099-b25e-4150-9716-fe46bd1b1bb6"
   },
   "outputs": [
    {
     "name": "stdout",
     "output_type": "stream",
     "text": [
      "0.9372197009391694\n",
      "0.6601488230071737\n",
      "0.7275136054288787\n"
     ]
    }
   ],
   "source": [
    "from sklearn.ensemble import RandomForestRegressor\n",
    "regressor_roll = RandomForestRegressor(random_state=0)\n",
    "\n",
    "regressor_roll.fit(X_train_pca_roll, y_train_roll)\n",
    "print(regressor_roll.score(X_train_pca_roll, y_train_roll))\n",
    "print(regressor_roll.score(X_val_pca_roll, y_val_roll))\n",
    "print(regressor_roll.score(X_test_pca_roll, y_test_roll))"
   ]
  },
  {
   "cell_type": "markdown",
   "metadata": {},
   "source": [
    "# My actual video"
   ]
  },
  {
   "cell_type": "code",
   "execution_count": 70,
   "metadata": {},
   "outputs": [],
   "source": [
    "#from google.colab.patches import cv2_imshow\n",
    "predictor=dlib.shape_predictor('shape_predictor_68_face_landmarks.dat')\n",
    "detector = dlib.get_frontal_face_detector()\n",
    "def draw_axis(img, yaw, pitch, roll, tdx=None, tdy=None, size = 100):\n",
    "\n",
    "    pitch = pitch * np.pi / 180\n",
    "    yaw = -(yaw * np.pi / 180)\n",
    "    roll = roll * np.pi / 180\n",
    "\n",
    "    if tdx != None and tdy != None:\n",
    "        tdx = tdx\n",
    "        tdy = tdy\n",
    "    else:\n",
    "        height, width = img.shape[:2]\n",
    "        tdx = width / 2\n",
    "        tdy = height / 2\n",
    "\n",
    "    # X-Axis pointing to right. drawn in red\n",
    "    x1 = size * (cos(yaw) * cos(roll)) + tdx\n",
    "    y1 = size * (cos(pitch) * sin(roll) + cos(roll) * sin(pitch) * sin(yaw)) + tdy\n",
    "\n",
    "    # Y-Axis | drawn in green\n",
    "    #        v\n",
    "    x2 = size * (-cos(yaw) * sin(roll)) + tdx\n",
    "    y2 = size * (cos(pitch) * cos(roll) - sin(pitch) * sin(yaw) * sin(roll)) + tdy\n",
    "\n",
    "    # Z-Axis (out of the screen) drawn in blue\n",
    "    x3 = size * (sin(yaw)) + tdx\n",
    "    y3 = size * (-cos(yaw) * sin(pitch)) + tdy\n",
    "\n",
    "    cv2.line(img, (int(tdx), int(tdy)), (int(x1),int(y1)),(0,0,255),3)\n",
    "    cv2.line(img, (int(tdx), int(tdy)), (int(x2),int(y2)),(0,255,0),3)\n",
    "    cv2.line(img, (int(tdx), int(tdy)), (int(x3),int(y3)),(255,0,0),2)\n",
    "\n",
    "    return img"
   ]
  },
  {
   "cell_type": "code",
   "execution_count": 71,
   "metadata": {},
   "outputs": [
    {
     "name": "stdout",
     "output_type": "stream",
     "text": [
      "0 [(322, 184) (476, 339)]  just\n",
      "0 [(322, 184) (476, 339)]  just\n",
      "0 [(322, 184) (476, 339)]  just\n",
      "0 [(322, 184) (476, 339)]  just\n",
      "0 [(322, 184) (476, 339)]  just\n",
      "0 [(339, 196) (468, 325)]  just\n",
      "0 [(339, 196) (468, 325)]  just\n",
      "0 [(339, 184) (494, 339)]  just\n",
      "0 [(354, 196) (483, 325)]  just\n",
      "0 [(356, 184) (511, 339)]  just\n",
      "0 [(356, 184) (511, 339)]  just\n",
      "0 [(356, 184) (511, 339)]  just\n",
      "0 [(356, 184) (511, 339)]  just\n",
      "0 [(339, 184) (494, 339)]  just\n",
      "0 [(339, 184) (494, 339)]  just\n",
      "0 [(339, 184) (494, 339)]  just\n",
      "0 [(339, 184) (494, 339)]  just\n",
      "0 [(322, 184) (476, 339)]  just\n",
      "0 [(325, 196) (454, 325)]  just\n",
      "0 [(304, 184) (459, 339)]  just\n",
      "0 [(304, 184) (459, 339)]  just\n",
      "0 [(287, 184) (442, 339)]  just\n",
      "0 [(287, 184) (442, 339)]  just\n",
      "0 [(287, 184) (442, 339)]  just\n",
      "0 [(287, 184) (442, 339)]  just\n",
      "0 [(287, 184) (442, 339)]  just\n",
      "0 [(287, 184) (442, 339)]  just\n",
      "0 [(287, 184) (442, 339)]  just\n",
      "0 [(311, 196) (440, 325)]  just\n",
      "0 [(304, 184) (459, 339)]  just\n",
      "0 [(325, 211) (454, 340)]  just\n",
      "0 [(339, 211) (468, 340)]  just\n",
      "0 [(339, 211) (468, 340)]  just\n",
      "0 [(339, 211) (468, 340)]  just\n",
      "0 [(339, 184) (494, 339)]  just\n",
      "0 [(339, 202) (494, 356)]  just\n",
      "0 [(339, 202) (494, 356)]  just\n",
      "0 [(339, 202) (494, 356)]  just\n",
      "0 [(339, 184) (494, 339)]  just\n",
      "0 [(339, 202) (494, 356)]  just\n",
      "0 [(339, 202) (494, 356)]  just\n",
      "0 [(339, 184) (494, 339)]  just\n",
      "0 [(339, 196) (468, 325)]  just\n",
      "0 [(339, 196) (468, 325)]  just\n",
      "0 [(339, 196) (468, 325)]  just\n",
      "0 [(322, 184) (476, 339)]  just\n",
      "0 [(325, 196) (454, 325)]  just\n",
      "0 [(304, 184) (459, 339)]  just\n",
      "0 [(311, 196) (440, 325)]  just\n",
      "0 [(287, 184) (442, 339)]  just\n",
      "0 [(287, 167) (442, 322)]  just\n",
      "0 [(287, 184) (442, 339)]  just\n",
      "0 [(287, 184) (442, 339)]  just\n",
      "0 [(296, 196) (425, 325)]  just\n",
      "0 [(287, 167) (442, 322)]  just\n",
      "0 [(287, 184) (442, 339)]  just\n",
      "0 [(287, 184) (442, 339)]  just\n",
      "0 [(296, 196) (425, 325)]  just\n",
      "0 [(287, 184) (442, 339)]  just\n",
      "0 [(287, 184) (442, 339)]  just\n",
      "0 [(287, 167) (442, 322)]  just\n",
      "0 [(311, 196) (440, 325)]  just\n",
      "0 [(304, 184) (459, 339)]  just\n",
      "0 [(325, 196) (454, 325)]  just\n",
      "0 [(322, 184) (476, 339)]  just\n",
      "0 [(339, 196) (468, 325)]  just\n",
      "0 [(339, 184) (494, 339)]  just\n",
      "0 [(339, 184) (494, 339)]  just\n",
      "0 [(339, 184) (494, 339)]  just\n",
      "0 [(356, 167) (511, 322)]  just\n",
      "0 [(356, 167) (511, 322)]  just\n",
      "0 [(356, 167) (511, 322)]  just\n",
      "0 [(373, 184) (528, 339)]  just\n",
      "0 [(356, 167) (511, 322)]  just\n",
      "0 [(356, 167) (511, 322)]  just\n",
      "0 [(356, 167) (511, 322)]  just\n",
      "0 [(356, 167) (511, 322)]  just\n",
      "0 [(356, 184) (511, 339)]  just\n",
      "0 [(356, 167) (511, 322)]  just\n",
      "0 [(356, 167) (511, 322)]  just\n",
      "0 [(356, 167) (511, 322)]  just\n",
      "0 [(356, 184) (511, 339)]  just\n",
      "0 [(368, 196) (497, 325)]  just\n",
      "0 [(339, 184) (494, 339)]  just\n",
      "0 [(339, 184) (494, 339)]  just\n",
      "0 [(339, 184) (494, 339)]  just\n",
      "0 [(339, 196) (468, 325)]  just\n",
      "0 [(339, 196) (468, 325)]  just\n",
      "0 [(339, 196) (468, 325)]  just\n",
      "0 [(322, 184) (476, 339)]  just\n",
      "0 [(325, 196) (454, 325)]  just\n",
      "0 [(325, 196) (454, 325)]  just\n",
      "0 [(325, 196) (454, 325)]  just\n",
      "0 [(304, 184) (459, 339)]  just\n",
      "0 [(311, 196) (440, 325)]  just\n",
      "0 [(311, 196) (440, 325)]  just\n",
      "0 [(311, 196) (440, 325)]  just\n",
      "0 [(311, 196) (440, 325)]  just\n",
      "0 [(311, 196) (440, 325)]  just\n",
      "0 [(311, 196) (440, 325)]  just\n",
      "0 [(311, 196) (440, 325)]  just\n",
      "0 [(304, 184) (459, 339)]  just\n",
      "0 [(325, 196) (454, 325)]  just\n",
      "0 [(322, 184) (476, 339)]  just\n",
      "0 [(339, 196) (468, 325)]  just\n",
      "0 [(339, 184) (494, 339)]  just\n",
      "0 [(354, 196) (483, 325)]  just\n",
      "0 [(339, 184) (494, 339)]  just\n",
      "0 [(356, 184) (511, 339)]  just\n",
      "0 [(356, 184) (511, 339)]  just\n",
      "0 [(356, 184) (511, 339)]  just\n",
      "0 [(356, 184) (511, 339)]  just\n",
      "0 [(356, 184) (511, 339)]  just\n",
      "0 [(356, 184) (511, 339)]  just\n",
      "0 [(356, 184) (511, 339)]  just\n",
      "0 [(356, 184) (511, 339)]  just\n",
      "0 [(356, 184) (511, 339)]  just\n",
      "0 [(339, 202) (494, 356)]  just\n",
      "0 [(339, 202) (494, 356)]  just\n",
      "0 [(339, 202) (494, 356)]  just\n",
      "0 [(339, 202) (494, 356)]  just\n",
      "0 [(339, 202) (494, 356)]  just\n",
      "0 [(339, 202) (494, 356)]  just\n",
      "0 [(339, 202) (494, 356)]  just\n",
      "0 [(339, 202) (494, 356)]  just\n",
      "0 [(322, 202) (476, 356)]  just\n",
      "The video was successfully saved\n"
     ]
    }
   ],
   "source": [
    "# Python program to save a \n",
    "# video using OpenCV\n",
    "  \n",
    "import cv2\n",
    "  \n",
    "   \n",
    "# Create an object to read \n",
    "# from camera\n",
    "video = cv2.VideoCapture(0)\n",
    "   \n",
    "# We need to check if camera\n",
    "# is opened previously or not\n",
    "if (video.isOpened() == False): \n",
    "    print(\"Error reading video file\")\n",
    "  \n",
    "# We need to set resolutions.\n",
    "# so, convert them from float to integer.\n",
    "frame_width = int(video.get(3))\n",
    "frame_height = int(video.get(4))\n",
    "   \n",
    "size = (frame_width, frame_height)\n",
    "   \n",
    "# Below VideoWriter object will create\n",
    "# a frame of above defined The output \n",
    "# is stored in 'filename.avi' file.\n",
    "result = cv2.VideoWriter('filename.avi', \n",
    "                         cv2.VideoWriter_fourcc(*'MJPG'),\n",
    "                         10, size)\n",
    "    \n",
    "while(True):\n",
    "    ret, frame = video.read()\n",
    "  \n",
    "    if ret == True: \n",
    "        \n",
    "        \n",
    "          ## My Code\n",
    "        cv2_frame = cv2.cvtColor(frame,cv2.COLOR_RGB2GRAY)\n",
    "        #get  yaw_pitch_roll from the image\n",
    "        coords = np.zeros((68, 2), dtype='int')\n",
    "        rects = detector(cv2_frame, 1)\n",
    "        for (i, rect) in enumerate(rects):\n",
    "            shape = predictor(cv2_frame, rect)\n",
    "            for i in range(0, 68):\n",
    "                  coords[i] = (shape.part(i).x, shape.part(i).y)\n",
    "        one_sample_yaw = pca_yaw.transform(  coords.reshape(1,136) )\n",
    "        one_sample_pitch = pca_pitch.transform(  coords.reshape(1,136) )\n",
    "        one_sample_roll = pca_roll.transform(  coords.reshape(1,136) )\n",
    "        yaw=regressor_yaw.predict(one_sample_yaw)[0]\n",
    "        pitch=regressor_pitch.predict(one_sample_pitch)[0]\n",
    "        roll=regressor_roll.predict(one_sample_roll)[0]\n",
    "        tdx,tdy=0,0\n",
    "        for (idx, det) in enumerate(rects):\n",
    "            print(idx,det , \" just\")\n",
    "            # Get x_min, y_min, x_max, y_max, conf\n",
    "            x_min = det.left()\n",
    "            y_min = det.top()\n",
    "            x_max = det.right()-x_min\n",
    "            y_max = det.bottom()-y_min\n",
    "            shape = predictor(cv2_frame, det)\n",
    "            tdx,tdy=shape.part(30).x, shape.part(30).y\n",
    "        frame=draw_axis(frame,yaw,pitch,roll ,tdx,tdy ) \n",
    "        \n",
    "        \n",
    "  \n",
    "        # Write the frame into the\n",
    "        # file 'filename.avi'\n",
    "        result.write(frame)\n",
    "  \n",
    "        # Display the frame\n",
    "        # saved in the file\n",
    "        \n",
    "        \n",
    "        \n",
    "        cv2.imshow('Frame', frame)\n",
    "  \n",
    "        # Press S on keyboard \n",
    "        # to stop the process\n",
    "        if cv2.waitKey(1) & 0xFF == ord('s'):\n",
    "            break\n",
    "  \n",
    "    # Break the loop\n",
    "    else:\n",
    "        break\n",
    "  \n",
    "# When everything done, release \n",
    "# the video capture and video \n",
    "# write objects\n",
    "video.release()\n",
    "result.release()\n",
    "    \n",
    "# Closes all the frames\n",
    "cv2.destroyAllWindows()\n",
    "   \n",
    "print(\"The video was successfully saved\")"
   ]
  },
  {
   "cell_type": "code",
   "execution_count": null,
   "metadata": {},
   "outputs": [],
   "source": []
  }
 ],
 "metadata": {
  "colab": {
   "collapsed_sections": [],
   "name": "My Copy of data of Pose Detection",
   "provenance": []
  },
  "kernelspec": {
   "display_name": "Python 3",
   "language": "python",
   "name": "python3"
  },
  "language_info": {
   "codemirror_mode": {
    "name": "ipython",
    "version": 3
   },
   "file_extension": ".py",
   "mimetype": "text/x-python",
   "name": "python",
   "nbconvert_exporter": "python",
   "pygments_lexer": "ipython3",
   "version": "3.8.5"
  }
 },
 "nbformat": 4,
 "nbformat_minor": 1
}
